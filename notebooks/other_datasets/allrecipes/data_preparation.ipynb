{
 "cells": [
  {
   "cell_type": "code",
   "execution_count": 1,
   "metadata": {},
   "outputs": [],
   "source": [
    "import pandas as pd\n",
    "import sys\n",
    "\n",
    "sys.path.append(\"../../..\")\n",
    "from src.data.initializer import DataLoaderSaver\n",
    "\n",
    "from src.common import config\n",
    "\n",
    "paths = config.Paths(\n",
    "    dataset_name=\"allrecipes2\",\n",
    "    target_users_name=\"all\",\n",
    ")"
   ]
  },
  {
   "cell_type": "code",
   "execution_count": 5,
   "metadata": {},
   "outputs": [],
   "source": [
    "def preprocess(df):\n",
    "    df.columns = [\"user\", \"item\", \"event\"]\n",
    "    df[\"timestamp\"] = 1\n",
    "    return df\n",
    "\n",
    "train = pd.read_csv(\"data/train.tsv\", sep=\"\\t\", header=None)\n",
    "validation = pd.read_csv(\"data/validation.tsv\", sep=\"\\t\", header=None)\n",
    "test = pd.read_csv(\"data/test.tsv\", sep=\"\\t\", header=None)\n",
    "\n",
    "for df in [train, validation, test]:\n",
    "    df = preprocess(df)\n",
    "\n",
    "train_validation = train"
   ]
  },
  {
   "cell_type": "code",
   "execution_count": 6,
   "metadata": {},
   "outputs": [],
   "source": [
    "train_validation.to_csv(\n",
    "    paths.train_and_validation, compression=\"gzip\", index=None\n",
    ")\n",
    "test.to_csv(paths.test, compression=\"gzip\", index=None)\n",
    "train.to_csv(paths.train, compression=\"gzip\", index=None)\n",
    "validation.to_csv(paths.validation, compression=\"gzip\", index=None)\n",
    "\n",
    "# prepare target_users\n",
    "test[\"user\"].drop_duplicates().to_csv(\n",
    "    paths.target_path / \"all.gzip\", header=None, index=None, compression=\"gzip\"\n",
    ")\n",
    "\n",
    "# prepare target_users for validation\n",
    "validation[\"user\"].drop_duplicates().to_csv(\n",
    "    paths.target_path / \"subset_validation.gzip\",\n",
    "    header=None,\n",
    "    index=None,\n",
    "    compression=\"gzip\",\n",
    ")"
   ]
  },
  {
   "cell_type": "code",
   "execution_count": null,
   "metadata": {},
   "outputs": [],
   "source": []
  }
 ],
 "metadata": {
  "kernelspec": {
   "display_name": ".venv",
   "language": "python",
   "name": "python3"
  },
  "language_info": {
   "codemirror_mode": {
    "name": "ipython",
    "version": 3
   },
   "file_extension": ".py",
   "mimetype": "text/x-python",
   "name": "python",
   "nbconvert_exporter": "python",
   "pygments_lexer": "ipython3",
   "version": "3.8.9"
  },
  "orig_nbformat": 4,
  "vscode": {
   "interpreter": {
    "hash": "770306a1923d89b1be3beb1bde2bcf646324613792ff5486ef278ea1c1e78cff"
   }
  }
 },
 "nbformat": 4,
 "nbformat_minor": 2
}
